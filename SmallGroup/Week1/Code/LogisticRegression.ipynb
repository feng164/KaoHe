{
 "cells": [
  {
   "cell_type": "code",
   "execution_count": 1,
   "id": "f42c6753-7159-496a-8749-693f6c193e0d",
   "metadata": {},
   "outputs": [],
   "source": [
    "import numpy as np\n",
    "import pandas as pd\n",
    "import matplotlib.pyplot as plt\n",
    "\n",
    "plt.rcParams['font.sans-serif'] = ['SimHei']  \n",
    "plt.rcParams['axes.unicode_minus'] = False \n",
    "\n",
    "# 示例使用\n",
    "file_path = 'watermalon.csv'\n",
    "df = pd.read_csv(file_path)"
   ]
  },
  {
   "cell_type": "code",
   "execution_count": 2,
   "id": "f7d420e0-dbdc-40a3-9cae-9c765238345c",
   "metadata": {
    "scrolled": true
   },
   "outputs": [
    {
     "name": "stdout",
     "output_type": "stream",
     "text": [
      "<class 'pandas.core.frame.DataFrame'>\n",
      "RangeIndex: 17 entries, 0 to 16\n",
      "Data columns (total 9 columns):\n",
      " #   Column  Non-Null Count  Dtype  \n",
      "---  ------  --------------  -----  \n",
      " 0   色泽      17 non-null     object \n",
      " 1   根蒂      17 non-null     object \n",
      " 2   敲声      17 non-null     object \n",
      " 3   纹理      17 non-null     object \n",
      " 4   脐部      17 non-null     object \n",
      " 5   触感      17 non-null     object \n",
      " 6   密度      17 non-null     float64\n",
      " 7   含糖率     17 non-null     float64\n",
      " 8   好瓜      17 non-null     object \n",
      "dtypes: float64(2), object(7)\n",
      "memory usage: 1.3+ KB\n",
      "None\n"
     ]
    }
   ],
   "source": [
    "#查看数据\n",
    "print(df.info())"
   ]
  },
  {
   "cell_type": "code",
   "execution_count": 3,
   "id": "cb2455a5-6c19-4a38-b7fb-4294446970b6",
   "metadata": {},
   "outputs": [
    {
     "name": "stdout",
     "output_type": "stream",
     "text": [
      "              密度        含糖率\n",
      "count  17.000000  17.000000\n",
      "mean    0.532647   0.212824\n",
      "std     0.166906   0.119879\n",
      "min     0.243000   0.042000\n",
      "25%     0.403000   0.103000\n",
      "50%     0.593000   0.211000\n",
      "75%     0.657000   0.267000\n",
      "max     0.774000   0.460000\n"
     ]
    }
   ],
   "source": [
    "#查看数据集描述的信息(非空值的数量,平均值,方差,最小值,下四分位数,中位数,上四分位数,最大值)\n",
    "print(df.describe())"
   ]
  },
  {
   "cell_type": "code",
   "execution_count": 4,
   "id": "32bb719f-f086-4f72-9c8d-3f34eb07ee1c",
   "metadata": {},
   "outputs": [
    {
     "name": "stdout",
     "output_type": "stream",
     "text": [
      "无异常\n"
     ]
    }
   ],
   "source": [
    "# 检查整个 DataFrame 是否有缺失值,如果有则检查每列有多少缺失值\n",
    "if df.isnull().any().any():\n",
    "    print(df.isnull().sum())\n",
    "else:\n",
    "    print(\"无异常\")"
   ]
  },
  {
   "cell_type": "code",
   "execution_count": 5,
   "id": "2ffc68e0-71d6-4997-99fc-b2f6e05414c2",
   "metadata": {},
   "outputs": [],
   "source": [
    "class LogisticModel:\n",
    "    def __init__(self, X, Y, alpha=0.05, mini=0.00001) -> None:\n",
    "        self.x = X\n",
    "        self.y = Y\n",
    "        self.alpha = alpha  # 学习率\n",
    "        self.mini = mini  # 迭代停止最小误差\n",
    "        self.theta = np.zeros(len(self.x[0]) + 1)  # 初始化theta，包括偏置项\n",
    "        self.predict = []  # 存放预测值\n",
    "\n",
    "    #构建sigmoid函数\n",
    "    def sigmoid(self, z):\n",
    "        return 1 / (1 + np.exp(-z))\n",
    "        \n",
    "    # 计算损失值\n",
    "    def loss(self, theta):\n",
    "        sum = 0.0\n",
    "        for i in range(len(self.y)):\n",
    "            if self.y[i][0] == 1:\n",
    "                sum += -np.log(self.sigmoid(np.dot(np.append(1, self.x[i]), theta)))\n",
    "            else:\n",
    "                sum += -np.log(1 - self.sigmoid(np.dot(np.append(1, self.x[i]), theta)))\n",
    "        return sum / len(self.y)\n",
    "\n",
    "    # 求取梯度\n",
    "    def gradient(self, theta):\n",
    "        sum = 0\n",
    "        for i in range(len(self.y)):\n",
    "            sum += (self.sigmoid(np.dot(np.append(1, self.x[i]), theta)) - self.y[i][0]) * np.append(1, self.x[i])\n",
    "        sum /= len(self.y)\n",
    "        return self.alpha * sum\n",
    "\n",
    "    # 检查是否达到迭代边界条件\n",
    "    def check(self, old_loss):\n",
    "        TempNew = self.loss(self.theta)\n",
    "        self.theta -= self.gradient(self.theta)  # 更新theta\n",
    "        result = abs(TempNew - old_loss)\n",
    "        if result <= self.mini: #检查是否收敛\n",
    "            return False\n",
    "        return True\n",
    "\n",
    "    # 迭代梯度下降的过程\n",
    "    def fit(self):\n",
    "        old_loss = self.loss(self.theta)\n",
    "        while self.check(old_loss):\n",
    "            old_loss = self.loss(self.theta)\n",
    "\n",
    "    # 模型预测\n",
    "    def predictSelf(self):\n",
    "        for i in range(len(self.y)):\n",
    "            if self.sigmoid(np.dot(np.append(1, self.x[i]), self.theta)) > 0.5:\n",
    "                self.predict.append(1)\n",
    "            else:\n",
    "                self.predict.append(0)\n",
    "\n",
    "    # 计算准确率\n",
    "    def accuracy(self):\n",
    "        y_true = self.y.flatten()\n",
    "        y_pred = np.array(self.predict)\n",
    "        correct_predictions = np.sum(y_true == y_pred)\n",
    "        total_predictions = len(y_true)\n",
    "        return correct_predictions / total_predictions\n",
    "\n",
    "    #展示图像\n",
    "    def show(self):\n",
    "        # 将预测结果和真实标签转换为一维数组\n",
    "        y_true = self.y.flatten()\n",
    "        y_pred = np.array(self.predict)\n",
    "        \n",
    "        plt.figure(figsize=(10, 6))\n",
    "        plt.scatter(range(len(y_true)), y_true, label='真实标签', marker='o', color='blue')\n",
    "        plt.scatter(range(len(y_pred)), y_pred, label='预测标签', marker='x', color='red')\n",
    "        plt.title('预测结果与真实标签对比')\n",
    "        plt.xlabel('样本索引')\n",
    "        plt.ylabel('标签')\n",
    "        plt.xticks(range(len(y_true)))\n",
    "        plt.legend()\n",
    "        plt.grid(True)\n",
    "        plt.show()"
   ]
  },
  {
   "cell_type": "code",
   "execution_count": 6,
   "id": "e431ab4b-a482-4850-ac1c-b7e86a7d2b9e",
   "metadata": {},
   "outputs": [],
   "source": [
    "#归一化\n",
    "def min_max_scaler(X):\n",
    "    return (X - np.min(X, axis=0)) / (np.max(X, axis=0) - np.min(X, axis=0))"
   ]
  },
  {
   "cell_type": "code",
   "execution_count": 7,
   "id": "a8a26919-6e13-4d22-b73a-ee5377529376",
   "metadata": {},
   "outputs": [
    {
     "name": "stdout",
     "output_type": "stream",
     "text": [
      "模型的准确率为: 0.71\n"
     ]
    },
    {
     "data": {
      "image/png": "[encoded data removed]",
      "text/plain": [
       "<Figure size 1000x600 with 1 Axes>"
      ]
     },
     "metadata": {},
     "output_type": "display_data"
    }
   ],
   "source": [
    "density = df['密度'].values.reshape(-1, 1)\n",
    "sugar_rate = df['含糖率'].values.reshape(-1, 1)\n",
    "#拼接2个数组\n",
    "x = np.hstack((density, sugar_rate))\n",
    "x_scaled = min_max_scaler(x)\n",
    "y = np.array([1, 1, 1, 1, 1, 1, 1, 1, 0, 0, 0,\n",
    "              0, 0, 0, 0, 0, 0]).reshape(-1, 1)\n",
    "\n",
    "Test = LogisticModel(x_scaled, y)\n",
    "Test.fit()\n",
    "Test.predictSelf()\n",
    "accuracy = Test.accuracy()  \n",
    "print(f\"模型的准确率为: {accuracy:.2f}\")\n",
    "Test.show()"
   ]
  },
  {
   "cell_type": "code",
   "execution_count": null,
   "id": "51a4dd58-8ab9-41ed-9032-473c7d06fb8a",
   "metadata": {},
   "outputs": [],
   "source": []
  }
 ],
 "metadata": {
  "kernelspec": {
   "display_name": "Python 3 (ipykernel)",
   "language": "python",
   "name": "python3"
  },
  "language_info": {
   "codemirror_mode": {
    "name": "ipython",
    "version": 3
   },
   "file_extension": ".py",
   "mimetype": "text/x-python",
   "name": "python",
   "nbconvert_exporter": "python",
   "pygments_lexer": "ipython3",
   "version": "3.12.7"
  }
 },
 "nbformat": 4,
 "nbformat_minor": 5
}
