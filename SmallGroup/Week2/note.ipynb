{
 "cells": [
  {
   "cell_type": "markdown",
   "id": "6144d435-4667-4a7f-abd9-316cf9b8cf7c",
   "metadata": {},
   "source": [
    "# 一.感知机"
   ]
  },
  {
   "cell_type": "markdown",
   "id": "3646f495-e72e-4056-b787-3574f2bbc88b",
   "metadata": {},
   "source": [
    "## 1.定义:\n",
    "> 感知机接受多个信号, 输出一个信号"
   ]
  },
  {
   "cell_type": "markdown",
   "id": "55a98a12-97db-4359-b2ab-6d48cd2b0def",
   "metadata": {},
   "source": [
    "看一个示例"
   ]
  },
  {
   "cell_type": "markdown",
   "id": "6914730b-4273-4214-a564-0adb8b8c1e46",
   "metadata": {},
   "source": [
    "![示例](https://typora10213.oss-cn-guangzhou.aliyuncs.com/undefined20250327145933.png)"
   ]
  },
  {
   "cell_type": "markdown",
   "id": "5d5f898d-6c5d-43ae-9770-281b191a0f75",
   "metadata": {},
   "source": [
    "### 该图中, $x_1,x_2$是输入, y是输出信号. $w_1,w_2$是权重. \"O\"是神经元/节点. 神经元会计算传送过来的信号总和($w_1x_1+w_2x_2$), 当总和超过了界限(称为阈值$\\theta$)才会输出1, 这个也称作\"神经元激活\""
   ]
  },
  {
   "cell_type": "markdown",
   "id": "5ff33701-2537-4d47-aa39-286ccf237a24",
   "metadata": {},
   "source": [
    "$y = \\begin{cases}\n",
    "0 & \\text{if } (w_1x_1+w_2x_2<=\\theta) \\\\\n",
    "1 & \\text{if } (w_1x_1+w_2x_2>\\theta) \n",
    "\\end{cases}$"
   ]
  },
  {
   "cell_type": "markdown",
   "id": "1ff26384-6cc5-4e65-8a7c-1a4ec0ef1981",
   "metadata": {},
   "source": [
    "## 2.简单逻辑电路"
   ]
  },
  {
   "cell_type": "markdown",
   "id": "8ce154d0-c2ea-482a-a8d9-d0b5f6c6c7ee",
   "metadata": {},
   "source": [
    "- 与门:2者都为1输出才为1\n",
    "- 与非门:颠倒与门的输出\n",
    "- 或门:2者都为0输出才为0"
   ]
  },
  {
   "cell_type": "markdown",
   "id": "bae80c1b-5464-400f-8076-ca668336ddfe",
   "metadata": {},
   "source": [
    "## 3.感知机的实现"
   ]
  },
  {
   "cell_type": "markdown",
   "id": "66c0c080-d0a1-4e72-92d9-3237847c9e00",
   "metadata": {},
   "source": [
    "### (1)简单实现"
   ]
  },
  {
   "cell_type": "code",
   "execution_count": 1,
   "id": "60d4c68e-02b7-4c09-93d5-5fd1febb25d8",
   "metadata": {},
   "outputs": [],
   "source": [
    "def AND(x1,x2):\n",
    "    w1,w2,theta = 0.5,0.5,0.7\n",
    "    t = w1*x1 + w2*x2\n",
    "    if t <=theta:\n",
    "        return 0\n",
    "    elif t>theta:\n",
    "        return 1"
   ]
  },
  {
   "cell_type": "code",
   "execution_count": 2,
   "id": "3e87a30b-794f-45cd-ac73-534f96a0f6f7",
   "metadata": {},
   "outputs": [
    {
     "name": "stdout",
     "output_type": "stream",
     "text": [
      "0\n",
      "0\n",
      "0\n",
      "1\n"
     ]
    }
   ],
   "source": [
    "print(AND(0,0))\n",
    "print(AND(0,1))\n",
    "print(AND(1,0))\n",
    "print(AND(1,1))"
   ]
  },
  {
   "cell_type": "markdown",
   "id": "015f945b-8628-4318-814d-e391d3a8fdc4",
   "metadata": {},
   "source": [
    "### (2)导入权重和偏置"
   ]
  },
  {
   "cell_type": "markdown",
   "id": "38c1e897-9192-4a45-a5af-7f2162ed434b",
   "metadata": {},
   "source": [
    "$y = \\begin{cases}\n",
    "0 & \\text{if } (w_1x_1+w_2x_2+b<=0) \\\\\n",
    "1 & \\text{if } (w_1x_1+w_2x_2+b>0) \n",
    "\\end{cases}$"
   ]
  },
  {
   "cell_type": "markdown",
   "id": "6db30622-ee75-498d-9cf9-ed469625f16f",
   "metadata": {},
   "source": [
    "> $w_i$为权重, $b$为偏置"
   ]
  },
  {
   "cell_type": "code",
   "execution_count": 3,
   "id": "0b1809fd-c643-494d-b6df-b2fdfa08a951",
   "metadata": {},
   "outputs": [
    {
     "name": "stdout",
     "output_type": "stream",
     "text": [
      "[0.  0.5]\n",
      "-0.19999999999999996\n"
     ]
    }
   ],
   "source": [
    "import numpy as np\n",
    "x=np.array([0,1])\n",
    "w=np.array([0.5,0.5])\n",
    "b=-0.7\n",
    "print(w*x)\n",
    "print(np.sum(w*x)+b)"
   ]
  },
  {
   "cell_type": "markdown",
   "id": "e018d873-b027-46ec-9b9b-e9b553b0c8e9",
   "metadata": {},
   "source": [
    "- 实现与门"
   ]
  },
  {
   "cell_type": "code",
   "execution_count": 4,
   "id": "6c23b67a-f8df-4e0c-b2b3-d9562c590c88",
   "metadata": {},
   "outputs": [
    {
     "name": "stdout",
     "output_type": "stream",
     "text": [
      "0\n",
      "0\n",
      "0\n",
      "1\n"
     ]
    }
   ],
   "source": [
    "def AND(x1,x2):\n",
    "    x=np.array([x1,x2])\n",
    "    w=np.array([0.5,0.5])\n",
    "    b=-0.7\n",
    "    t = np.sum(w*x)+b\n",
    "    if t <=0:\n",
    "        return 0\n",
    "    elif t>0:\n",
    "        return 1\n",
    "\n",
    "print(AND(0,0))\n",
    "print(AND(0,1))\n",
    "print(AND(1,0))\n",
    "print(AND(1,1))"
   ]
  },
  {
   "cell_type": "markdown",
   "id": "52451227-5528-41d3-8143-c07170776473",
   "metadata": {},
   "source": [
    "## 4.感知机的局限性"
   ]
  },
  {
   "cell_type": "markdown",
   "id": "03be789b-6f7b-4ac7-8ef7-2b501eed819f",
   "metadata": {},
   "source": [
    "- 异或门:只有其中一个为1输出才是1"
   ]
  },
  {
   "cell_type": "markdown",
   "id": "377afba3-fef2-49ce-9ee2-0253e1bed78b",
   "metadata": {},
   "source": [
    "然而感知机无法实现异或门, 因为它只能表示由一条直线分隔的空间, 而异或门表示的空间无法用一条直线分隔"
   ]
  },
  {
   "cell_type": "markdown",
   "id": "c6f19ff4-14c5-4558-872f-a493796abaf7",
   "metadata": {},
   "source": [
    "![](https://typora10213.oss-cn-guangzhou.aliyuncs.com/undefined20250327153429.png)"
   ]
  },
  {
   "cell_type": "markdown",
   "id": "86c73925-591b-473c-899f-5ebeeeefa30a",
   "metadata": {},
   "source": [
    "## 5.多层感知机"
   ]
  },
  {
   "cell_type": "markdown",
   "id": "522dd969-3417-4fad-a5af-f3f342af5da0",
   "metadata": {},
   "source": [
    "将单层感知机进行叠加即可"
   ]
  },
  {
   "cell_type": "markdown",
   "id": "cb40218f-b9bc-43fe-8486-6b5843ab8584",
   "metadata": {},
   "source": [
    "![](https://typora10213.oss-cn-guangzhou.aliyuncs.com/undefined20250327153810.png)"
   ]
  },
  {
   "cell_type": "markdown",
   "id": "65f35be1-c294-4e7e-9607-e119108e595d",
   "metadata": {},
   "source": [
    "代码实现"
   ]
  },
  {
   "cell_type": "code",
   "execution_count": 9,
   "id": "34c4b734-2a81-48b9-bc14-3c366fdf2591",
   "metadata": {},
   "outputs": [
    {
     "name": "stdout",
     "output_type": "stream",
     "text": [
      "0\n",
      "1\n",
      "1\n",
      "0\n"
     ]
    }
   ],
   "source": [
    "def AND(x1,x2):\n",
    "    x=np.array([x1,x2])\n",
    "    w=np.array([0.5,0.5])\n",
    "    b=-0.7\n",
    "    t = np.sum(w*x)+b\n",
    "    if t <=0:\n",
    "        return 0\n",
    "    elif t>0:\n",
    "        return 1\n",
    "\n",
    "def NAND(x1,x2):\n",
    "    x=np.array([x1,x2])\n",
    "    w=np.array([-0.5,-0.5])\n",
    "    b=0.7\n",
    "    t = np.sum(w*x)+b\n",
    "    if t <=0:\n",
    "        return 0\n",
    "    elif t>0:\n",
    "        return 1\n",
    "\n",
    "def OR(x1,x2):\n",
    "    x=np.array([x1,x2])\n",
    "    w=np.array([0.5,0.5])\n",
    "    b=-0.2\n",
    "    t = np.sum(w*x)+b\n",
    "    if t <=0:\n",
    "        return 0\n",
    "    elif t>0:\n",
    "        return 1\n",
    "\n",
    "def XOR(x1,x2):\n",
    "    s1=NAND(x1,x2)\n",
    "    s2=OR(x1,x2)\n",
    "    y=AND(s1,s2)\n",
    "    return y\n",
    "\n",
    "print(XOR(0,0))\n",
    "print(XOR(0,1))\n",
    "print(XOR(1,0))\n",
    "print(XOR(1,1))"
   ]
  },
  {
   "cell_type": "markdown",
   "id": "1bcb3bd2-a0e3-4067-8444-53e652eaf7b4",
   "metadata": {},
   "source": [
    "![](https://typora10213.oss-cn-guangzhou.aliyuncs.com/undefined20250327154745.png)"
   ]
  },
  {
   "cell_type": "markdown",
   "id": "18ae26f6-ade2-4601-9686-ba5fc637a7a1",
   "metadata": {},
   "source": [
    "# 二.神经网络"
   ]
  },
  {
   "cell_type": "markdown",
   "id": "79943068-5cd9-4f32-b586-4d9b69c672b0",
   "metadata": {},
   "source": [
    "## 1.概念"
   ]
  },
  {
   "cell_type": "markdown",
   "id": "fcfe5f3f-3e01-4788-a61e-6ae642a8db34",
   "metadata": {},
   "source": [
    "- 输入层:最左边的一层\n",
    "- 输出层:最右边的一层\n",
    "- 隐藏层:中间的所有层(又称中间层)\n",
    "- 激活函数:将输入的加权总和作为因变量,经过此函数输出特定结果.用于引入非线性因素，从而使得神经网络能够学习和模拟复杂的非线性关系。"
   ]
  },
  {
   "cell_type": "markdown",
   "id": "38c2715c-6fb4-426e-beab-67a381761085",
   "metadata": {},
   "source": [
    "$a = w_1*x_1 + w_2*x_2 + b$\n",
    "\n",
    "$y=h(a)$"
   ]
  },
  {
   "cell_type": "markdown",
   "id": "e8b9b7a4-95e0-4a99-a685-3c9ddb234f62",
   "metadata": {},
   "source": [
    "![](https://typora10213.oss-cn-guangzhou.aliyuncs.com/undefined20250327195215.png)"
   ]
  },
  {
   "cell_type": "markdown",
   "id": "1b918d1e-f229-4151-ba9d-144facd27d90",
   "metadata": {},
   "source": [
    "## 2.激活函数"
   ]
  },
  {
   "cell_type": "markdown",
   "id": "2d0cd4b3-01c2-4879-ad4f-7f753a49f55a",
   "metadata": {},
   "source": [
    "### (1)sigmoid函数\n",
    "$h(x)=\\frac{1}{1+exp(-x)}$"
   ]
  },
  {
   "cell_type": "code",
   "execution_count": 29,
   "id": "2041a0ed-be5c-4e89-9203-78d4a9b7ba42",
   "metadata": {},
   "outputs": [],
   "source": [
    "def sigmoid(z):\n",
    "    return 1/(1+np.exp(-z))"
   ]
  },
  {
   "cell_type": "code",
   "execution_count": 30,
   "id": "0d4a88fa-7237-4443-bfb6-9522954c6fb1",
   "metadata": {},
   "outputs": [
    {
     "data": {
      "image/png": "[encoded data removed]",
      "text/plain": [
       "<Figure size 640x480 with 1 Axes>"
      ]
     },
     "metadata": {},
     "output_type": "display_data"
    }
   ],
   "source": [
    "x = np.arange(-5.0,5.0,0.1)\n",
    "y = sigmoid(x)\n",
    "plt.plot(x,y)\n",
    "plt.ylim(-0.1,1.1)\n",
    "plt.show()"
   ]
  },
  {
   "cell_type": "markdown",
   "id": "148dc858-270e-48df-9af5-fbf509854db9",
   "metadata": {},
   "source": [
    "### (2)越阶函数"
   ]
  },
  {
   "cell_type": "markdown",
   "id": "25fc4356-eee5-4b40-a1e4-80f9c6a9d2a9",
   "metadata": {},
   "source": [
    "$y=\\begin{cases}\n",
    "0 & \\text{if }  x<=0 \\\\\n",
    "1 & \\text{if }  x>0\n",
    "\\end{cases}$"
   ]
  },
  {
   "cell_type": "code",
   "execution_count": 31,
   "id": "605c3260-3530-4306-970e-db082cc6d3f6",
   "metadata": {},
   "outputs": [],
   "source": [
    "def step_function1(x):\n",
    "    if x>0:\n",
    "        return 1\n",
    "    else:\n",
    "        return 0"
   ]
  },
  {
   "cell_type": "markdown",
   "id": "94ccb362-5f58-4a37-9b90-19b383fd373d",
   "metadata": {},
   "source": [
    "> 支持numpy的形式 :"
   ]
  },
  {
   "cell_type": "code",
   "execution_count": 32,
   "id": "d250b5b6-c832-436c-8ad9-95869e2f2411",
   "metadata": {},
   "outputs": [],
   "source": [
    "def step_function2(x):\n",
    "    return np.array(x > 0, dtype = np.int64)"
   ]
  },
  {
   "cell_type": "code",
   "execution_count": 33,
   "id": "49e6abbb-c47c-493b-b92f-469776f580db",
   "metadata": {},
   "outputs": [
    {
     "name": "stdout",
     "output_type": "stream",
     "text": [
      "[-1.  1.  2.]\n",
      "[False  True  True]\n"
     ]
    },
    {
     "data": {
      "image/png": "[encoded data removed]",
      "text/plain": [
       "<Figure size 640x480 with 1 Axes>"
      ]
     },
     "metadata": {},
     "output_type": "display_data"
    }
   ],
   "source": [
    "import numpy as np\n",
    "import matplotlib.pylab as plt\n",
    "\n",
    "x = np.array([-1.0,1.0,2.0])\n",
    "print(x)\n",
    "print(x>0)\n",
    "y = step_function2(x)  \n",
    "\n",
    "plt.scatter(x, y, color='blue', zorder=5)  #\n",
    "plt.ylim(-0.1, 1.1)\n",
    "plt.xlim(-2, 3)  \n",
    "plt.title(\"Step Function\")\n",
    "plt.xlabel(\"x\")\n",
    "plt.ylabel(\"y\")\n",
    "plt.grid(True)\n",
    "plt.show()"
   ]
  },
  {
   "cell_type": "markdown",
   "id": "6cb1513c-779d-4f94-bc7c-f416a482b20c",
   "metadata": {},
   "source": [
    "### (3)ReLU函数(Rectified Linear Unit)"
   ]
  },
  {
   "cell_type": "markdown",
   "id": "55c0951a-9a10-4cbf-ba9d-3fbe53ae3c75",
   "metadata": {},
   "source": [
    "$h(x)=\\begin{cases}\n",
    "x & \\text{if} (x>0) \\\\\n",
    "0 & \\text{if} (x<=0)\n",
    "\\end{cases}$"
   ]
  },
  {
   "cell_type": "code",
   "execution_count": 34,
   "id": "7a8aaa12-645f-4b63-a6be-0575348ed37c",
   "metadata": {},
   "outputs": [],
   "source": [
    "def relu(x):\n",
    "    return np.maximum(0,x)"
   ]
  },
  {
   "cell_type": "markdown",
   "id": "27333931-9573-47ae-8d39-720f636bc4b1",
   "metadata": {},
   "source": [
    "### 3.3层神经网络的实现"
   ]
  },
  {
   "cell_type": "markdown",
   "id": "88a77ca3-d8ff-4edc-9877-ec463f4194e5",
   "metadata": {},
   "source": [
    "### (1)符号解释"
   ]
  },
  {
   "cell_type": "markdown",
   "id": "15ad76e2-650c-4729-ad1d-49e795e8542f",
   "metadata": {},
   "source": [
    "![](https://typora10213.oss-cn-guangzhou.aliyuncs.com/undefined20250327205127.png)"
   ]
  },
  {
   "cell_type": "markdown",
   "id": "1ef052c3-e8ec-46fd-9ca5-95d71dc598f3",
   "metadata": {},
   "source": [
    "### (2)传递的实现"
   ]
  },
  {
   "cell_type": "markdown",
   "id": "3e0b6d47-0b19-4fcf-89e6-a32fd18e13a7",
   "metadata": {},
   "source": [
    "![](https://typora10213.oss-cn-guangzhou.aliyuncs.com/undefined20250327205344.png)"
   ]
  },
  {
   "cell_type": "markdown",
   "id": "fe8289d2-a1dd-4acc-be73-8e58c7339c6b",
   "metadata": {},
   "source": [
    "使用矩阵表示:\n",
    "$A^{(1)} = XW^{(i)} + B^{(i)}$\n",
    "\n",
    "其中: \n",
    "$A^{(i)} = \\begin{pmatrix}\n",
    "a_1^{(i)} & a_2^{(i)} & a_3^{(i)}\n",
    "\\end{pmatrix}$\n",
    "\n",
    "$\\mathbf{X} = \\begin{pmatrix}\n",
    "x_1 & x_2\n",
    "\\end{pmatrix}$\n",
    "\n",
    "$B^{(i)} = \\begin{pmatrix}\n",
    "b_1^{(i)} & b_2^{(i)} & b_3^{(i)}\n",
    "\\end{pmatrix}$\n",
    "\n",
    "$W^{(i)} = \\begin{pmatrix}\n",
    "w_{11}^{(i)} & w_{21}^{(i)} & w_{31}^{(i)} \\\\\n",
    "w_{12}^{(i)} & w_{22}^{(i)} & w_{32}^{(i)}\n",
    "\\end{pmatrix}$"
   ]
  },
  {
   "cell_type": "markdown",
   "id": "f487c246-90d8-44b3-bf32-7334f0f687c7",
   "metadata": {},
   "source": [
    "> 代码实现"
   ]
  },
  {
   "cell_type": "code",
   "execution_count": 37,
   "id": "7663829a-ed13-4f13-8e87-5863c570b7e2",
   "metadata": {},
   "outputs": [
    {
     "name": "stdout",
     "output_type": "stream",
     "text": [
      "[0.31682708 0.69627909]\n"
     ]
    }
   ],
   "source": [
    "def init_network():\n",
    "    network = {}\n",
    "    network['w1'] = np.array([[0.1,0.3,0.5],[0.2,0.4,0.6]])\n",
    "    network['b1'] = np.array([0.1,0.2,0.3])\n",
    "    network['w2'] = np.array([[0.1,0.4],[0.2,0.5],[0.3,0.6]])\n",
    "    network['b2'] = np.array([0.1,0.2])\n",
    "    network['w3'] = np.array([[0.1,0.3],[0.2,0.4]])\n",
    "    network['b3'] = np.array([0.1,0.2])\n",
    "    return network\n",
    "\n",
    "def forward(network,x):\n",
    "    w1,w2,w3 = network['w1'], network['w2'], network['w3']\n",
    "    b1,b2,b3 = network['b1'], network['b2'], network['b3']\n",
    "    a1 = np.dot(x,w1)+b1\n",
    "    z1 = sigmoid(a1)\n",
    "    a2 = np.dot(z1,w2)+b2\n",
    "    z2 = sigmoid(a2)\n",
    "    a3 = np.dot(z2,w3)+b3\n",
    "    y = a3\n",
    "    return y\n",
    "\n",
    "network = init_network()\n",
    "x = np.array([1.0,0.5])\n",
    "y= forward(network,x)\n",
    "print(y)"
   ]
  },
  {
   "cell_type": "markdown",
   "id": "c2c80ea6-4e09-4265-b37c-22062890a6f0",
   "metadata": {},
   "source": [
    "## 4.输出层的设计"
   ]
  },
  {
   "cell_type": "markdown",
   "id": "0c1c1557-38e4-462a-90e5-e47c9c4e4460",
   "metadata": {},
   "source": [
    "> 根据应用的领域不同, 可分为回问题和分类问题"
   ]
  },
  {
   "cell_type": "markdown",
   "id": "2d15e4c9-9227-45b2-a5d4-6c55e2decfda",
   "metadata": {},
   "source": [
    "### 回归问题用恒等函数, 分类问题用softmax函数"
   ]
  },
  {
   "cell_type": "markdown",
   "id": "6a397b43-7eca-40eb-9af5-8b7a16ca3587",
   "metadata": {},
   "source": [
    "### (1)恒等函数"
   ]
  },
  {
   "cell_type": "markdown",
   "id": "ea3612e3-6d74-4172-8848-f5bc1169b473",
   "metadata": {},
   "source": [
    "- 恒等函数:对于输入信息原封不动地直接输出"
   ]
  },
  {
   "cell_type": "markdown",
   "id": "d8878911-a29a-4559-b39d-1dd4e74e6a0f",
   "metadata": {},
   "source": [
    "### (2)softmax函数"
   ]
  },
  {
   "cell_type": "markdown",
   "id": "e90f3bba-221c-46c7-943d-8ff9ce1de91c",
   "metadata": {},
   "source": [
    "- softmax: $y_i=\\frac{exp(a_k)}{\\sum_{i=1}^nexp(a_i)}  (0<y_i<1)$"
   ]
  },
  {
   "cell_type": "code",
   "execution_count": 1,
   "id": "7465f3d5-cd6c-4b33-99d0-1a713930e404",
   "metadata": {},
   "outputs": [],
   "source": [
    "def softmax(a):\n",
    "    exp_a = np.exp(a)\n",
    "    sum_exp_a = np.sum(exp_a)\n",
    "    y = exp_a / sum_exp_a\n",
    "    return y"
   ]
  },
  {
   "cell_type": "markdown",
   "id": "4e07986a-cb2a-4ebf-b82c-fca8ef33ea70",
   "metadata": {},
   "source": [
    "> 但该函数有个缺陷就是容易溢出,此时将函数进行改进"
   ]
  },
  {
   "cell_type": "markdown",
   "id": "725916ee-522b-4e69-ba7b-ae240f1d912b",
   "metadata": {},
   "source": [
    "$y_i=\\frac{exp(a_k+logC)}{\\sum_{i=1}^nexp(a_i+logC)}=\\frac{exp(a_k+C')}{\\sum_{i=1}^nexp(a_i+C')}$"
   ]
  },
  {
   "cell_type": "markdown",
   "id": "6f231cd9-5a2c-4767-b0be-e92264cd91eb",
   "metadata": {},
   "source": [
    "- C'一般为输入的最大值"
   ]
  },
  {
   "cell_type": "code",
   "execution_count": 5,
   "id": "4dee543f-0a0d-4be7-9b65-7afabbc73ec7",
   "metadata": {},
   "outputs": [
    {
     "name": "stdout",
     "output_type": "stream",
     "text": [
      "[0.01821127 0.24519181 0.73659691]\n",
      "1.0\n"
     ]
    }
   ],
   "source": [
    "import numpy as np\n",
    "\n",
    "def softmax(a):\n",
    "    c = np.max(a)\n",
    "    exp_a = np.exp(a-c)\n",
    "    sum_exp_a = np.sum(exp_a)\n",
    "    y = exp_a / sum_exp_a\n",
    "    return y\n",
    "\n",
    "a = np.array([0.3,2.9,4.0])\n",
    "y = softmax(a)\n",
    "print(y)\n",
    "print(np.sum(y)) #和总是1"
   ]
  },
  {
   "cell_type": "markdown",
   "id": "ad936c76-9c1a-48ef-9bec-e4380c5bbcb5",
   "metadata": {},
   "source": [
    "> 由于对于softmax函数,输入大则输出大。一般神经网络只把输出值最大的神经元所对应的类别作为识别结果,所以输出层的softmax可以省略"
   ]
  },
  {
   "cell_type": "markdown",
   "id": "48f53b16-436a-4ed7-825a-3d3a40e2bb11",
   "metadata": {},
   "source": [
    "## 5.神经网络学习"
   ]
  },
  {
   "cell_type": "markdown",
   "id": "8b35646c-2745-4898-9d46-c7a2a7f6eb24",
   "metadata": {},
   "source": [
    "### (1).前向传播(forward propagatin):\n",
    "> 神经网络从输入层到输出层的计算过程"
   ]
  },
  {
   "cell_type": "markdown",
   "id": "44ecc962-f1c5-449e-b45a-447b7fb66add",
   "metadata": {},
   "source": [
    "### (2).反向传播(back propagation):\n",
    "> 是神经网络训练过程中一个非常关键的算法，用于计算损失函数对网络参数的梯度，从而指导网络参数的更新，优化网络性能\n",
    "\n",
    "#### [1]. **反向传播的背景和目的**\n",
    "在神经网络训练中，通常定义一个损失函数，用于衡量网络预测值与真实值之间的差异。训练的目标是通过调整网络的参数（权重和偏置），使损失函数的值尽可能小。反向传播算法通过计算损失函数对每个参数的梯度，帮助我们找到参数更新的方向和大小。\n",
    "\n",
    "#### [2]. **反向传播的基本原理**\n",
    "反向传播基于链式法则来计算梯度。链式法则是一种用于求复合函数导数的方法，它将复杂的函数分解为多个简单函数的组合，并逐步计算每个部分的导数。\n",
    "假设有一个简单的神经网络，包含输入层、一个隐藏层和输出层，损失函数为L。需要计算损失函数L对每个权重 W 的梯度 $\\frac{\\partial L}{\\partial w}$。\n",
    "\n",
    "**链式法则的应用**\n",
    "\n",
    "假设隐藏层的输出为h，输出层的输出为y，则损失函数L可以表示为：\n",
    "$L = L(y)$\n",
    "\n",
    "根据链式法则，损失函数L对权重w 的梯度可以表示为：\n",
    "$\\frac{\\partial L}{\\partial w} = \\frac{\\partial L}{\\partial y} \\cdot \\frac{\\partial y}{\\partial w}$\n",
    "\n",
    "如果y 是由隐藏层的输出h通过某种函数f计算得到的，即 $y = f(h)$，那么：\n",
    "$\\frac{\\partial L}{\\partial w} = \\frac{\\partial L}{\\partial y} \\cdot \\frac{\\partial y}{\\partial h} \\cdot \\frac{\\partial h}{\\partial w}$\n",
    "\n",
    "通过这种方式，可以逐步从输出层向输入层反向计算每个参数的梯度。\n",
    "\n",
    "#### [3]. **反向传播的步骤**\n",
    "反向传播的计算过程可以分为以下几个步骤：\n",
    "\n",
    "- **前向传播**\n",
    "首先，输入数据通过网络进行前向传播，计算出网络的输出值y 和损失函数L。\n",
    "\n",
    "- **计算损失函数的梯度**\n",
    "计算损失函数L对输出y的梯度：\n",
    "$\\frac{\\partial L}{\\partial y}$\n",
    "\n",
    "- **逐层反向计算梯度**\n",
    "从输出层开始，逐层向输入层反向计算每个参数的梯度。对于每一层，我们需要计算：\n",
    "    - 当前层的输出对当前层输入的梯度（例如$\\frac{\\partial y}{\\partial h}$)。\n",
    "    - 当前层输入对前一层输出的梯度（例如$\\frac{\\partial h}{\\partial w}$)。\n",
    "\n",
    "具体来说：\n",
    "- **输出层**：计算$\\frac{\\partial L}{\\partial y}$和 $\\frac{\\partial y}{\\partial w}$。\n",
    "- **隐藏层**：计算$\\frac{\\partial L}{\\partial h}$ 和$\\frac{\\partial h}{\\partial w}$。\n",
    "\n",
    "- **更新参数**\n",
    "根据计算得到的梯度，使用优化算法（如梯度下降法）更新网络的参数。例如，对于权重w，更新公式为：\n",
    "$w = w - \\eta \\cdot \\frac{\\partial L}{\\partial w}$\n",
    "其中$\\eta$是学习率。\n",
    "\n",
    "#### [4]. **反向传播的关键点**\n",
    "- **激活函数的导数**：在计算梯度时，激活函数的导数非常重要。例如，ReLU激活函数的导数为：\n",
    "$\n",
    "f'(x) =\n",
    "\\begin{cases}\n",
    "1, & \\text{if } x > 0 \\\\\n",
    "0, & \\text{otherwise}\n",
    "\\end{cases}\n",
    "$\n",
    "\n",
    "- **梯度消失和梯度爆炸问题**：在深度神经网络中，反向传播可能会遇到梯度消失或梯度爆炸的问题。梯度消失是指梯度值变得非常小，导致参数更新缓慢，训练过程停滞；梯度爆炸是指梯度值变得非常大，导致参数更新过大，训练过程不稳定。解决这些问题的方法包括：\n",
    "  - 使用合适的激活函数（如ReLU）。\n",
    "  - 初始化参数时选择合适的范围（如Xavier初始化或He初始化）。\n",
    "  - 使用梯度裁剪（Gradient Clipping）技术。\n",
    "  - 使用批量归一化（Batch Normalization）等技术。\n"
   ]
  },
  {
   "cell_type": "code",
   "execution_count": 4,
   "id": "f701cf7d-e8a5-4d9c-b1e2-cba05c5a1ae5",
   "metadata": {},
   "outputs": [
    {
     "name": "stdout",
     "output_type": "stream",
     "text": [
      "Epoch 0, Loss: 0.3274780407035275\n",
      "Epoch 100, Loss: 0.29330907011571666\n",
      "Epoch 200, Loss: 0.2649084337394191\n",
      "Epoch 300, Loss: 0.25102146932963126\n",
      "Epoch 400, Loss: 0.23759479864438182\n",
      "Epoch 500, Loss: 0.21426417791440902\n",
      "Epoch 600, Loss: 0.18491017219954037\n",
      "Epoch 700, Loss: 0.15487282095828594\n",
      "Epoch 800, Loss: 0.1264977459606972\n",
      "Epoch 900, Loss: 0.10037415443109346\n",
      "测试模型：\n",
      "输入: [0 0], 输出: 0.3757\n",
      "输入: [0 1], 输出: 0.7434\n",
      "输入: [1 0], 输出: 0.7424\n",
      "输入: [1 1], 输出: 0.1960\n"
     ]
    }
   ],
   "source": [
    "import numpy as np\n",
    "\n",
    "# 激活函数及其导数\n",
    "def relu(x):\n",
    "    return np.maximum(0, x)\n",
    "\n",
    "def relu_derivative(x):\n",
    "    return (x > 0).astype(float)\n",
    "\n",
    "def sigmoid(x):\n",
    "    return 1 / (1 + np.exp(-x))\n",
    "\n",
    "def sigmoid_derivative(x):\n",
    "    return x * (1 - x)\n",
    "\n",
    "# 均方误差损失函数及其导数\n",
    "def mse_loss(y_true, y_pred):\n",
    "    return ((y_true - y_pred) ** 2).mean()\n",
    "\n",
    "def mse_derivative(y_true, y_pred):\n",
    "    return 2 * (y_pred - y_true) / y_true.size\n",
    "\n",
    "# 初始化参数\n",
    "np.random.seed(42)  # 为了结果可复现\n",
    "input_size = 2   #输入层为2个神经元\n",
    "hidden_size = 3  #隐藏层有3个神经元\n",
    "output_size = 1  #输出层有1个神经元\n",
    "learning_rate = 0.1   #学习率\n",
    "\n",
    "# 初始化权重和偏置\n",
    "W1 = np.random.randn(input_size, hidden_size)  # 输入层到隐藏层的权重\n",
    "b1 = np.zeros((1, hidden_size))                # 输入层到隐藏层的偏置\n",
    "W2 = np.random.randn(hidden_size, output_size) # 隐藏层到输出层的权重\n",
    "b2 = np.zeros((1, output_size))                # 隐藏层到输出层的偏置\n",
    "\n",
    "# 训练数据\n",
    "X = np.array([[0, 0], [0, 1], [1, 0], [1, 1]])  # 输入\n",
    "y = np.array([[0], [1], [1], [0]])              # 真值（异或问题）\n",
    "\n",
    "# 训练过程\n",
    "epochs = 1000\n",
    "for epoch in range(epochs):\n",
    "    # 前向传播\n",
    "    z1 = np.dot(X, W1) + b1\n",
    "    a1 = relu(z1)  # 隐藏层激活\n",
    "    z2 = np.dot(a1, W2) + b2\n",
    "    a2 = sigmoid(z2)  # 输出层激活\n",
    "\n",
    "    # 计算损失\n",
    "    loss = mse_loss(y, a2)\n",
    "    if epoch % 100 == 0:\n",
    "        print(f\"Epoch {epoch}, Loss: {loss}\")\n",
    "\n",
    "    # 反向传播\n",
    "    # 输出层\n",
    "    dL_da2 = mse_derivative(y, a2)\n",
    "    da2_dz2 = sigmoid_derivative(a2)\n",
    "    dL_dz2 = dL_da2 * da2_dz2\n",
    "    dL_dW2 = np.dot(a1.T, dL_dz2)\n",
    "    dL_db2 = np.sum(dL_dz2, axis=0, keepdims=True)\n",
    "\n",
    "    # 隐藏层\n",
    "    dL_da1 = np.dot(dL_dz2, W2.T)\n",
    "    da1_dz1 = relu_derivative(a1)\n",
    "    dL_dz1 = dL_da1 * da1_dz1\n",
    "    dL_dW1 = np.dot(X.T, dL_dz1)\n",
    "    dL_db1 = np.sum(dL_dz1, axis=0, keepdims=True)\n",
    "\n",
    "    # 参数更新\n",
    "    W1 -= learning_rate * dL_dW1\n",
    "    b1 -= learning_rate * dL_db1\n",
    "    W2 -= learning_rate * dL_dW2\n",
    "    b2 -= learning_rate * dL_db2\n",
    "\n",
    "# 测试模型\n",
    "print(\"测试模型：\")\n",
    "for x in X:\n",
    "    z1 = np.dot(x, W1) + b1\n",
    "    a1 = relu(z1)\n",
    "    z2 = np.dot(a1, W2) + b2\n",
    "    a2 = sigmoid(z2)\n",
    "    print(f\"输入: {x}, 输出: {a2[0][0]:.4f}\")"
   ]
  },
  {
   "cell_type": "markdown",
   "id": "b53814cb-7bcc-4032-955f-9be6be03e353",
   "metadata": {},
   "source": [
    "### (3)从数据中学习"
   ]
  },
  {
   "cell_type": "markdown",
   "id": "e48d3eda-2043-4a0d-89f8-0ae3e956717e",
   "metadata": {},
   "source": [
    "#### [1]数据驱动\n",
    "- 特征量:从输入(数据/图像)中准确地提取本质数据的转换器, 通常表示为向量的形式\n",
    "神经网络中, 重要特征量是由机器来学习的"
   ]
  },
  {
   "cell_type": "markdown",
   "id": "baba505c-5a2c-459f-8bed-bdd74aea20ad",
   "metadata": {},
   "source": [
    "### [2]训练数据和测试数据"
   ]
  },
  {
   "cell_type": "markdown",
   "id": "fa350131-f590-4811-b499-e7bb946f6f87",
   "metadata": {},
   "source": [
    "> 一般将数据分为**训练数据(又称监督数据)**和**测试数据**2部分进行学习和实验.\n",
    "- 先使用训练数据进行学习, 寻找最优参数;然后使用测试数据评价训练得到的模型的实际能力\n",
    "- 为了正确评价模型的泛化能力, 就要将数据划分为训练数据和测试数据"
   ]
  },
  {
   "cell_type": "markdown",
   "id": "4b4adfb3-4405-45da-be97-7a19df500ada",
   "metadata": {},
   "source": [
    "> 泛化能力是处理未被观察过的数据的能力"
   ]
  },
  {
   "cell_type": "markdown",
   "id": "1c9b950f-b32d-4af2-82cd-81e5a1455aba",
   "metadata": {},
   "source": [
    "### [3]损失函数"
   ]
  },
  {
   "cell_type": "markdown",
   "id": "1e4a0046-930e-4978-9714-89bada6bdbb5",
   "metadata": {},
   "source": [
    "- 均方误差:\n",
    "    -  $E=\\frac{1}{2}\\sum_k(y_k-t_k)^2$\n",
    "        -  $y_k$为神经网络的输出,$t_k$表示训练数据,k表示数据的维度\n",
    "- 交叉熵误差:\n",
    "    - $E=-\\frac{1}{N}\\sum_n\\sum_k(t_{nk}\\log y_{nk})$\n",
    "        - 数据个数为N,$y_{nk}$是神经网络的输出,$t_{nk}$是第n个数据的第k个元素的值的正确解标签($t_k$中只有正确解标签的索引为1,其它均为0[one-hot编码表示]) "
   ]
  },
  {
   "cell_type": "markdown",
   "id": "d19ade59-b0a6-4845-b1a5-0a692ea09137",
   "metadata": {},
   "source": [
    "### [4]mini-batch学习\n",
    "- 每次迭代时，模型会使用一个小型的数据子集（称为“小批量”或“Mini - Batch”）来计算损失函数的梯度，并更新模型的参数。"
   ]
  },
  {
   "cell_type": "markdown",
   "id": "2b55ee1b-e615-40a3-be88-83fefb1e753c",
   "metadata": {},
   "source": [
    "举个例子"
   ]
  },
  {
   "cell_type": "code",
   "execution_count": 3,
   "id": "457b9e43-6e23-4de5-9496-ba19f40d34e5",
   "metadata": {},
   "outputs": [
    {
     "name": "stdout",
     "output_type": "stream",
     "text": [
      "Epoch [1/10], Loss: 0.6795\n",
      "Epoch [2/10], Loss: 0.6788\n",
      "Epoch [3/10], Loss: 0.6714\n",
      "Epoch [4/10], Loss: 0.6996\n",
      "Epoch [5/10], Loss: 0.6936\n",
      "Epoch [6/10], Loss: 0.6834\n",
      "Epoch [7/10], Loss: 0.6983\n",
      "Epoch [8/10], Loss: 0.6978\n",
      "Epoch [9/10], Loss: 0.7000\n",
      "Epoch [10/10], Loss: 0.6932\n"
     ]
    }
   ],
   "source": [
    "import torch\n",
    "from torch.utils.data import DataLoader, TensorDataset\n",
    "\n",
    "# 假设有一些训练数据（特征和标签）\n",
    "x_train = torch.randn(10000, 10)  # 10000 个样本，每个样本 10 个特征\n",
    "y_train = torch.randint(0, 2, (10000,))  # 二分类任务的标签\n",
    "\n",
    "# 将数据封装为 TensorDataset\n",
    "dataset = TensorDataset(x_train, y_train)\n",
    "\n",
    "# 创建 DataLoader，设置 Mini - Batch 大小为 32\n",
    "batch_size = 32\n",
    "data_loader = DataLoader(dataset, batch_size=batch_size, shuffle=True)\n",
    "\n",
    "# 假设有一个简单的神经网络模型\n",
    "model = torch.nn.Sequential(\n",
    "    torch.nn.Linear(10, 5),\n",
    "    torch.nn.ReLU(),\n",
    "    torch.nn.Linear(5, 2)\n",
    ")\n",
    "\n",
    "# 定义损失函数和优化器\n",
    "criterion = torch.nn.CrossEntropyLoss()\n",
    "optimizer = torch.optim.SGD(model.parameters(), lr=0.01)\n",
    "\n",
    "# 训练模型\n",
    "num_epochs = 10\n",
    "for epoch in range(num_epochs):\n",
    "    for batch_x, batch_y in data_loader:\n",
    "        # 前向传播\n",
    "        outputs = model(batch_x)\n",
    "        loss = criterion(outputs, batch_y)\n",
    "\n",
    "        # 反向传播和参数更新\n",
    "        optimizer.zero_grad()\n",
    "        loss.backward()\n",
    "        optimizer.step()\n",
    "\n",
    "    print(f'Epoch [{epoch + 1}/{num_epochs}], Loss: {loss.item():.4f}')"
   ]
  },
  {
   "cell_type": "markdown",
   "id": "eabbe72e-0ae0-47aa-a304-e494d279e431",
   "metadata": {},
   "source": [
    "在这个例子中，通过 DataLoader 将数据划分为大小为 32 的 Mini - Batch。每次迭代时，模型会处理一个 Mini - Batch 的数据，计算损失函数并更新参数。"
   ]
  },
  {
   "cell_type": "markdown",
   "id": "ef1a34e9-e1c8-444a-953a-80e4bb5bc9ed",
   "metadata": {},
   "source": [
    "### [5]随机梯度下降\n",
    "- 使用mini-batch\n",
    "- 计算梯度\n",
    "- 更新参数\n",
    "- 重复上述3步骤\n",
    "因为数据是随机选择的mini-batch数据, 这个更新参数的方法叫**随机梯度下降法(SGD)**"
   ]
  },
  {
   "cell_type": "code",
   "execution_count": null,
   "id": "e87f52e9-ca0a-4e10-84f8-7d769d5bb88a",
   "metadata": {},
   "outputs": [],
   "source": []
  }
 ],
 "metadata": {
  "kernelspec": {
   "display_name": "Python 3 (ipykernel)",
   "language": "python",
   "name": "python3"
  },
  "language_info": {
   "codemirror_mode": {
    "name": "ipython",
    "version": 3
   },
   "file_extension": ".py",
   "mimetype": "text/x-python",
   "name": "python",
   "nbconvert_exporter": "python",
   "pygments_lexer": "ipython3",
   "version": "3.12.7"
  }
 },
 "nbformat": 4,
 "nbformat_minor": 5
}
